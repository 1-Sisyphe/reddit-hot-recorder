{
 "cells": [
  {
   "cell_type": "code",
   "execution_count": 5,
   "metadata": {},
   "outputs": [],
   "source": [
    "import hotrecorder as hr\n",
    "import imp"
   ]
  },
  {
   "cell_type": "code",
   "execution_count": 16,
   "metadata": {},
   "outputs": [],
   "source": [
    "imp.reload(hr)\n",
    "datalist = hr.collect_data(interval=60,ticks=100,feedback=False)"
   ]
  },
  {
   "cell_type": "code",
   "execution_count": 21,
   "metadata": {},
   "outputs": [],
   "source": [
    "import pickle\n",
    "with open('testdata.pickle', 'wb') as handle:\n",
    "    pickle.dump(datalist, handle, protocol=pickle.HIGHEST_PROTOCOL)"
   ]
  },
  {
   "cell_type": "code",
   "execution_count": 22,
   "metadata": {
    "collapsed": true
   },
   "outputs": [],
   "source": [
    "with open('testdata.pickle', 'rb') as handle:\n",
    "    b = pickle.load(handle)"
   ]
  },
  {
   "cell_type": "code",
   "execution_count": 34,
   "metadata": {},
   "outputs": [],
   "source": [
    "imp.reload(hr)\n",
    "\n",
    "maxups = max([max(d['ups']) for d in datalist])\n",
    "maxcoms = max([max(d['coms']) for d in datalist])\n",
    "maxage = max([max(d['ages']) for d in datalist])\n",
    "\n",
    "for n in range(len(datalist)):\n",
    "    hr.make_chart(datalist[n],increment=n+1,maxage=12,maxups = maxups, maxcoms = maxcoms)"
   ]
  },
  {
   "cell_type": "code",
   "execution_count": 14,
   "metadata": {
    "collapsed": true
   },
   "outputs": [],
   "source": [
    "import matplotlib.pyplot as plt"
   ]
  },
  {
   "cell_type": "code",
   "execution_count": 39,
   "metadata": {},
   "outputs": [
    {
     "data": {
      "image/png": "[encoded data removed]",
      "text/plain": [
       "<matplotlib.figure.Figure at 0x7fde7a0f0358>"
      ]
     },
     "metadata": {},
     "output_type": "display_data"
    }
   ],
   "source": [
    "y = [sum(d['ups']) for d in datalist]\n",
    "x = [d['timestamp'] for d in datalist]\n",
    "plt.plot(x,y)\n",
    "plt.show()"
   ]
  },
  {
   "cell_type": "code",
   "execution_count": 26,
   "metadata": {},
   "outputs": [
    {
     "data": {
      "text/plain": [
       "476"
      ]
     },
     "execution_count": 26,
     "metadata": {},
     "output_type": "execute_result"
    }
   ],
   "source": [
    "max([max(d['ups']) for d in datalist])"
   ]
  },
  {
   "cell_type": "code",
   "execution_count": 37,
   "metadata": {},
   "outputs": [
    {
     "data": {
      "text/plain": [
       "[273,\n",
       " 273,\n",
       " 274,\n",
       " 274,\n",
       " 223,\n",
       " 225,\n",
       " 227,\n",
       " 228,\n",
       " 228,\n",
       " 228,\n",
       " 228,\n",
       " 251,\n",
       " 251,\n",
       " 252,\n",
       " 253,\n",
       " 256,\n",
       " 259,\n",
       " 259,\n",
       " 259,\n",
       " 260,\n",
       " 261,\n",
       " 263,\n",
       " 263,\n",
       " 264,\n",
       " 265,\n",
       " 268,\n",
       " 269,\n",
       " 269,\n",
       " 269,\n",
       " 269,\n",
       " 270,\n",
       " 272,\n",
       " 272,\n",
       " 273,\n",
       " 275,\n",
       " 277,\n",
       " 277,\n",
       " 277,\n",
       " 277,\n",
       " 278,\n",
       " 278,\n",
       " 281,\n",
       " 282,\n",
       " 283,\n",
       " 284,\n",
       " 286,\n",
       " 287,\n",
       " 287,\n",
       " 288,\n",
       " 288,\n",
       " 290,\n",
       " 291,\n",
       " 290,\n",
       " 290,\n",
       " 291,\n",
       " 291,\n",
       " 292,\n",
       " 292,\n",
       " 292,\n",
       " 293,\n",
       " 294,\n",
       " 296,\n",
       " 296,\n",
       " 297,\n",
       " 297,\n",
       " 299,\n",
       " 299,\n",
       " 299,\n",
       " 299,\n",
       " 293,\n",
       " 293,\n",
       " 301,\n",
       " 302,\n",
       " 302,\n",
       " 303,\n",
       " 303,\n",
       " 294,\n",
       " 294,\n",
       " 303,\n",
       " 303,\n",
       " 304,\n",
       " 304,\n",
       " 295,\n",
       " 296,\n",
       " 296,\n",
       " 296,\n",
       " 278,\n",
       " 278,\n",
       " 278,\n",
       " 296,\n",
       " 296,\n",
       " 296,\n",
       " 296,\n",
       " 298,\n",
       " 298,\n",
       " 298,\n",
       " 281,\n",
       " 268,\n",
       " 282,\n",
       " 271]"
      ]
     },
     "execution_count": 37,
     "metadata": {},
     "output_type": "execute_result"
    }
   ],
   "source": [
    "[sum(d['coms']) for d in datalist]"
   ]
  },
  {
   "cell_type": "code",
   "execution_count": null,
   "metadata": {
    "collapsed": true
   },
   "outputs": [],
   "source": []
  }
 ],
 "metadata": {
  "kernelspec": {
   "display_name": "Python 3",
   "language": "python",
   "name": "python3"
  },
  "language_info": {
   "codemirror_mode": {
    "name": "ipython",
    "version": 3
   },
   "file_extension": ".py",
   "mimetype": "text/x-python",
   "name": "python",
   "nbconvert_exporter": "python",
   "pygments_lexer": "ipython3",
   "version": "3.6.3"
  }
 },
 "nbformat": 4,
 "nbformat_minor": 2
}
